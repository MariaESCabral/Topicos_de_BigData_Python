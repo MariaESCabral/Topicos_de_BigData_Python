{
  "nbformat": 4,
  "nbformat_minor": 0,
  "metadata": {
    "colab": {
      "provenance": [],
      "authorship_tag": "ABX9TyMwUi4h/oFxcANxWZ0fDbII",
      "include_colab_link": true
    },
    "kernelspec": {
      "name": "python3",
      "display_name": "Python 3"
    },
    "language_info": {
      "name": "python"
    }
  },
  "cells": [
    {
      "cell_type": "markdown",
      "metadata": {
        "id": "view-in-github",
        "colab_type": "text"
      },
      "source": [
        "<a href=\"https://colab.research.google.com/github/MariaESCabral/Topicos_de_BigData_Python/blob/main/AnaliseDadosBebidas.ipynb\" target=\"_parent\"><img src=\"https://colab.research.google.com/assets/colab-badge.svg\" alt=\"Open In Colab\"/></a>"
      ]
    },
    {
      "cell_type": "code",
      "execution_count": 62,
      "metadata": {
        "colab": {
          "base_uri": "https://localhost:8080/",
          "height": 1000
        },
        "id": "hFUgDgq8LTDi",
        "outputId": "2af4ecca-6229-4607-c8e1-214f760a7550"
      },
      "outputs": [
        {
          "output_type": "stream",
          "name": "stdout",
          "text": [
            "Africa                   29\n",
            "Europe                   22\n",
            "Americas                 19\n",
            "Eastern Mediterranean    18\n",
            "Western Pacific           8\n",
            "South-East Asia           4\n",
            "Name: who region, dtype: int64\n",
            "Viet Nam                                 4\n",
            "Ukraine                                  3\n",
            "Afghanistan                              2\n",
            "Suriname                                 2\n",
            "Somalia                                  2\n",
            "                                        ..\n",
            "Egypt                                    1\n",
            "Russian Federation                       1\n",
            "Micronesia (Federated States of)         1\n",
            "Sierra Leone                             1\n",
            "Democratic People's Republic of Korea    1\n",
            "Name: country, Length: 80, dtype: int64\n",
            "beverage types\n",
            "Beer       35.50\n",
            "Other      14.93\n",
            "Spirits    30.97\n",
            "Wine       23.39\n",
            "Name: display value, dtype: float64\n"
          ]
        },
        {
          "output_type": "display_data",
          "data": {
            "text/plain": [
              "<Figure size 1200x600 with 1 Axes>"
            ],
            "image/png": "[encoded data removed]"
          },
          "metadata": {}
        },
        {
          "output_type": "stream",
          "name": "stdout",
          "text": [
            "2        Wine\n",
            "7     Spirits\n",
            "12       Beer\n",
            "14    Spirits\n",
            "24      Other\n",
            "26       Wine\n",
            "33      Other\n",
            "35    Spirits\n",
            "44      Other\n",
            "50      Other\n",
            "63      Other\n",
            "71      Other\n",
            "76       Beer\n",
            "77    Spirits\n",
            "80      Other\n",
            "81       Wine\n",
            "85       Wine\n",
            "94    Spirits\n",
            "96       Wine\n",
            "99       Wine\n",
            "Name: beverage types, dtype: object\n",
            "3     Americas\n",
            "9       Africa\n",
            "21    Americas\n",
            "30      Africa\n",
            "41      Europe\n",
            "57      Europe\n",
            "91      Europe\n",
            "96      Europe\n",
            "Name: who region, dtype: object\n"
          ]
        }
      ],
      "source": [
        "import pandas as pd\n",
        "import matplotlib.pyplot as plt\n",
        "\n",
        "df = pd.read_csv('https://raw.githubusercontent.com/MariaESCabral/Topicos_de_BigData_Python/main/world_alcohol.csv')\n",
        "df.columns = ['year', 'who region', 'country', 'beverage types', 'display value'] #unificando os nomes das colunas\n",
        "\n",
        "#Agrupe os dados por tipo de bebidas\n",
        "grupo_bebidas = df.groupby('beverage types')\n",
        "\n",
        "#Agrupe os dados por regiao e por ano\n",
        "grupo_regiao_ano = df.groupby(['who region', 'year'])\n",
        "\n",
        "#Seçao de contagens: contar a ocorrecia de regioes, de paises e a soma da coluna de valores por bebidas\n",
        "contagem_regiao = df['who region'].value_counts() # Contagem de ocorrência de regiões\n",
        "print(contagem_regiao)\n",
        "\n",
        "contagem_pais = df['country'].value_counts() # Contagem de ocorrência de países\n",
        "print(contagem_pais)\n",
        "\n",
        "soma_bebidas = df.groupby('beverage types')['display value'].sum() # Soma da coluna de valores por bebidas\n",
        "print(soma_bebidas)\n",
        "\n",
        "#Realize analises estatisticas da coluna de valores: media, moeda, mediana, estatistica descritiva e grafico de comparação dos valores agrupados por tipo de bebida.\n",
        "\n",
        "mean_value = df['display value'].mean()\n",
        "mode_value = df['display value'].mode()[0]\n",
        "median_value = df['display value'].median()\n",
        "descriptive_stats = df['display value'].describe()\n",
        "\n",
        "# grafico de comparação dos valores agrupados por tipo de bebida.\n",
        "plt.figure(figsize=(12, 6))\n",
        "df.groupby('beverage types')['display value'].sum().plot(kind='bar')\n",
        "plt.xlabel('Bebida')\n",
        "plt.ylabel('Valores')\n",
        "plt.title('Valores por Tipo de Bebida')\n",
        "plt.show()\n",
        "\n",
        "#Mostre resultados de acordo com alguns criterios:\n",
        "#i. Mostrar a coluna de bebidas do ano de 1985\n",
        "ano1985 = df[df['year'] == 1985]['beverage types']\n",
        "print(ano1985)\n",
        "\n",
        "#ii. Mostrar a coluna de regiao com valores acima de 4\n",
        "acima_4 = df[df['display value'] > 4]['who region']\n",
        "print(acima_4)\n"
      ]
    }
  ]
}