{
  "nbformat": 4,
  "nbformat_minor": 0,
  "metadata": {
    "colab": {
      "provenance": [],
      "authorship_tag": "ABX9TyOOTd6Bj28o68f10a40lNZl",
      "include_colab_link": true
    },
    "kernelspec": {
      "name": "python3",
      "display_name": "Python 3"
    },
    "language_info": {
      "name": "python"
    }
  },
  "cells": [
    {
      "cell_type": "markdown",
      "metadata": {
        "id": "view-in-github",
        "colab_type": "text"
      },
      "source": [
        "<a href=\"https://colab.research.google.com/github/MariaESCabral/Topicos_de_BigData_Python/blob/main/Pandas_Estruturas_de_Dados_Serie.ipynb\" target=\"_parent\"><img src=\"https://colab.research.google.com/assets/colab-badge.svg\" alt=\"Open In Colab\"/></a>"
      ]
    },
    {
      "cell_type": "code",
      "execution_count": null,
      "metadata": {
        "colab": {
          "base_uri": "https://localhost:8080/"
        },
        "id": "L6PdY-1tXIns",
        "outputId": "595c0fbe-3884-4a5f-be0e-c5f64793b8c0"
      },
      "outputs": [
        {
          "output_type": "execute_result",
          "data": {
            "text/plain": [
              "0     2\n",
              "1     7\n",
              "2     5\n",
              "3    10\n",
              "4     6\n",
              "5    20\n",
              "dtype: int64"
            ]
          },
          "metadata": {},
          "execution_count": 1
        }
      ],
      "source": [
        "#Tranformar lista em serie\n",
        "import pandas as pd\n",
        "notas = pd.Series([2,7,5,10,6,20])\n",
        "\n",
        "notas"
      ]
    },
    {
      "cell_type": "code",
      "source": [
        "#atributos index\n",
        "import pandas as pd\n",
        "notas = pd.Series([2,7,5,10,6,20])\n",
        "\n",
        "notas.index\n"
      ],
      "metadata": {
        "colab": {
          "base_uri": "https://localhost:8080/"
        },
        "id": "yYTrlyMvcmhg",
        "outputId": "2fef994d-354f-4a4d-a795-bf70140c9bb0"
      },
      "execution_count": null,
      "outputs": [
        {
          "output_type": "execute_result",
          "data": {
            "text/plain": [
              "array([ 2,  7,  5, 10,  6, 20])"
            ]
          },
          "metadata": {},
          "execution_count": 3
        }
      ]
    },
    {
      "cell_type": "code",
      "source": [
        "#atributos valores\n",
        "import pandas as pd\n",
        "notas = pd.Series([2,7,5,10,6,20])\n",
        "\n",
        "notas.values\n"
      ],
      "metadata": {
        "colab": {
          "base_uri": "https://localhost:8080/"
        },
        "id": "TFNJjX7ac7CF",
        "outputId": "6dfaa349-3145-484a-ea07-a47b05858df4"
      },
      "execution_count": null,
      "outputs": [
        {
          "output_type": "execute_result",
          "data": {
            "text/plain": [
              "array([ 2,  7,  5, 10,  6, 20])"
            ]
          },
          "metadata": {},
          "execution_count": 4
        }
      ]
    },
    {
      "cell_type": "code",
      "source": [
        "#atributos informaçoes das N posicoes de inicio\n",
        "import pandas as pd\n",
        "\n",
        "notas = pd.Series([2,7,5,10,6,20])\n",
        "\n",
        "notas.head(n=6)"
      ],
      "metadata": {
        "colab": {
          "base_uri": "https://localhost:8080/"
        },
        "id": "XN81slgsdNfk",
        "outputId": "731aa08d-d2d0-44d6-f75b-bfaeb54f27cd"
      },
      "execution_count": null,
      "outputs": [
        {
          "output_type": "execute_result",
          "data": {
            "text/plain": [
              "0     2\n",
              "1     7\n",
              "2     5\n",
              "3    10\n",
              "4     6\n",
              "5    20\n",
              "dtype: int64"
            ]
          },
          "metadata": {},
          "execution_count": 8
        }
      ]
    },
    {
      "cell_type": "code",
      "source": [
        "#atributos informaçoes das N posicoes do final\n",
        "import pandas as pd\n",
        "notas = pd.Series([2,7,5,10,6,20])\n",
        "\n",
        "notas.tail(5)"
      ],
      "metadata": {
        "colab": {
          "base_uri": "https://localhost:8080/"
        },
        "id": "zkNP6Y4mdqwN",
        "outputId": "48aa91d8-148f-47f5-b752-d35b3527af71"
      },
      "execution_count": null,
      "outputs": [
        {
          "output_type": "execute_result",
          "data": {
            "text/plain": [
              "1     7\n",
              "2     5\n",
              "3    10\n",
              "4     6\n",
              "5    20\n",
              "dtype: int64"
            ]
          },
          "metadata": {},
          "execution_count": 11
        }
      ]
    },
    {
      "cell_type": "code",
      "source": [
        "#informar a quantdade de linhas e colunas\n",
        "import pandas as pd\n",
        "notas = pd.Series([2,7,5,10,6,20])\n",
        "\n",
        "notas.shape"
      ],
      "metadata": {
        "colab": {
          "base_uri": "https://localhost:8080/"
        },
        "id": "HF32XxkEeDGT",
        "outputId": "c1dcdbbb-5aa3-4e79-f106-c0b32a8f2e2c"
      },
      "execution_count": null,
      "outputs": [
        {
          "output_type": "execute_result",
          "data": {
            "text/plain": [
              "(6,)"
            ]
          },
          "metadata": {},
          "execution_count": 1
        }
      ]
    }
  ]
}